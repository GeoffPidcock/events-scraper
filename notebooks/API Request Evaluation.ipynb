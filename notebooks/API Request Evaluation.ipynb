{
 "cells": [
  {
   "cell_type": "markdown",
   "metadata": {},
   "source": [
    "# API Data Schema\n",
    "Geoff Pidcock | 20190526\n",
    "\n",
    "## Scope\n",
    "Use the Python Requests library to extract information about event listings, and determine an appropriate schema.\n",
    "\n",
    "### TODO\n",
    "- Pull sample dataset from Eventbrite, and double check schema"
   ]
  },
  {
   "cell_type": "code",
   "execution_count": 1,
   "metadata": {},
   "outputs": [],
   "source": [
    "# See environment.yml for setup instructions\n",
    "import sys\n",
    "import os\n",
    "import pandas as pd\n",
    "import json\n",
    "import requests"
   ]
  },
  {
   "cell_type": "code",
   "execution_count": 2,
   "metadata": {},
   "outputs": [
    {
     "name": "stdout",
     "output_type": "stream",
     "text": [
      "C:\\Users\\Geoff Pidcock\\Anaconda_Projects\\Other Projects\\events-aggregator\\events-scraper\\notebooks\n",
      "C:\\Users\\Geoff Pidcock\\Anaconda_Projects\\Other Projects\\events-aggregator\n"
     ]
    }
   ],
   "source": [
    "# Get API keys from the following places:\n",
    "## Eventbrite: https://www.eventbrite.com.au/account-settings/apps\n",
    "## Meetup: https://secure.meetup.com/meetup_api/key/\n",
    "# This has been stored in a creds python file above the parent directory\n",
    "print(os.getcwd())\n",
    "os.chdir('..//..//')\n",
    "print(os.getcwd())"
   ]
  },
  {
   "cell_type": "code",
   "execution_count": 3,
   "metadata": {},
   "outputs": [],
   "source": [
    "from creds import meetup_api_key, eventbrite_api_key_public, eventbrite_api_key_private, eventbrite_api_client_secret"
   ]
  },
  {
   "cell_type": "markdown",
   "metadata": {},
   "source": [
    "## Pull Data from Meetup API\n",
    "[Docs](https://www.meetup.com/meetup_api/docs/)"
   ]
  },
  {
   "cell_type": "code",
   "execution_count": 4,
   "metadata": {},
   "outputs": [
    {
     "data": {
      "text/plain": [
       "82"
      ]
     },
     "execution_count": 4,
     "metadata": {},
     "output_type": "execute_result"
    }
   ],
   "source": [
    "# https://www.meetup.com/meetup_api/docs/find/upcoming_events/\n",
    "# Todo - look into topic categories for smarter filtering - https://www.meetup.com/meetup_api/docs/find/topic_categories/\n",
    "payload = dict(\n",
    "    text = 'Data',\n",
    "    lat = '-33.87',\n",
    "    lon = '151.21',\n",
    "    radius = '100',\n",
    "    page = '100',\n",
    "    order = 'time',\n",
    "    fields = 'featured_photo,key_photo,key_photo,meta_category,group_category',\n",
    "    key = meetup_api_key\n",
    ")\n",
    "attempt = requests.get(\"https://api.meetup.com/find/upcoming_events\",params=payload)\n",
    "data = attempt.json()\n",
    "len(data['events'])"
   ]
  },
  {
   "cell_type": "code",
   "execution_count": 5,
   "metadata": {},
   "outputs": [
    {
     "data": {
      "text/plain": [
       "{'id': 1000653,\n",
       " 'city': 'Sydney',\n",
       " 'lat': -33.87,\n",
       " 'lon': 151.21,\n",
       " 'state': '',\n",
       " 'country': 'au',\n",
       " 'zip': 'meetup1',\n",
       " 'member_count': 21737}"
      ]
     },
     "execution_count": 5,
     "metadata": {},
     "output_type": "execute_result"
    }
   ],
   "source": [
    "data['city']"
   ]
  },
  {
   "cell_type": "code",
   "execution_count": 6,
   "metadata": {},
   "outputs": [
    {
     "name": "stdout",
     "output_type": "stream",
     "text": [
      "index: 0 | name: PPC Event - Head of Digital Marketing @ Finder, Founder Triggr AI, Ex Googler.\n",
      "index: 1 | name: Build an Open Data API using Flask-RESTPlus\n",
      "index: 2 | name: Internet of Things Solution rollouts | #DisruptorsInTech Sydney\n",
      "index: 3 | name: What You Need to Know about Omni-channel Marketing\n",
      "index: 4 | name: June: Detecting Online Credit Card Fraud with Apache Kafka Streams\n",
      "index: 5 | name: Got an Idea? We’ll help you convert it into a startup\n",
      "index: 6 | name: Time Series: A Conference Honouring Prof William Dunsmuir\n",
      "index: 7 | name: Australian Skeptics in the Pub - METAFACT: FACT CHECKING BY VERIFIED EXPERTS\n",
      "index: 8 | name: Digital Village Meetup (Networking)\n",
      "index: 9 | name: SydCSS June\n",
      "index: 10 | name: ANZ Workshop Tour - Sydney\n",
      "index: 11 | name: Autonomous Database Cloud Diagnosability using Machine Learning\n",
      "index: 12 | name: Know Yourself. Know life\n",
      "index: 13 | name: #136 [All] A Cryptoguy, an Accountant, and a Buidler walks into a bar....\n",
      "index: 14 | name: Defending Sexual Assault Charges\n",
      "index: 15 | name: Advanced-level volleyball\n",
      "index: 16 | name: \"To be announced\"\n",
      "index: 17 | name: Strong Engineering Culture, Strong Product Culture\n",
      "index: 18 | name: SSA NSW Branch: Special Public Lecture by Dr Joanna Wang & Dr Suzanne Poynton\n",
      "index: 19 | name: (paid)Live AI Workshop: overcome machine learning data bottleneck\n",
      "index: 20 | name: Bitcoin for Beginners - Lunch & Learn @ Tank Stream Labs\n",
      "index: 21 | name: Tech Talks | Mini Bytes: Hospo-Tech | (Powered by Tech Bytes)\n",
      "index: 22 | name: Digital Engagement Research&How UX Design Helps Users Understand Data by Sitback\n",
      "index: 23 | name: Sydney Power BI Meetup - June 2019\n",
      "index: 24 | name: [DBD] Query Tuning Internals for the Advanced SQL Developer\n",
      "index: 25 | name: Meet up with your analytics peers and chat\n",
      "index: 26 | name: RESCHEDULED to JUNE: Citrix NetXperts JUNE 2019\n",
      "index: 27 | name: June edition, Sydney Data Engineering meetup\n",
      "index: 28 | name: How to create high performing Leaders & Managers - Session for HR & C-Suite\n",
      "index: 29 | name: LoRa & The Things Network (TTN) Workshop\n",
      "index: 30 | name: TWGAS #6\n",
      "index: 31 | name: The Humans of Ai Podcast\n",
      "index: 32 | name: GA & Data Science Breakfast Meetup presents: The Rise of Automation\n",
      "index: 33 | name: Learn to code at your own pace\n",
      "index: 34 | name: SCP: Facebook Hacker Cup Special\n",
      "index: 35 | name: Algorithms, Graphs and Awesome Procedures\n",
      "index: 36 | name: Sydney: Home grown IoT. Presented by Aaron Powell\n",
      "index: 37 | name: Alteryx User Group Sydney\n",
      "index: 38 | name: Docker Meetup - RSVP\n",
      "index: 39 | name: Newy DevOps & Cloud (Infracoders) June 2019 Meetup\n",
      "index: 40 | name: Unleash the power of data fabrics and unlearn old data management practices...\n",
      "index: 41 | name: OpenMined Sydney - Starter Session\n",
      "index: 42 | name: Content Marketing Deepdive: Connect and Convert\n",
      "index: 43 | name: June DevOps Meetup\n",
      "index: 44 | name: Why The Gender Pay Gap in Tech Gets Worse Not Better\n",
      "index: 45 | name: June Sydney HashiCorp Session\n",
      "index: 46 | name: Masterclass - How machine learning works for Big Data: tips, tricks and cases - \n",
      "index: 47 | name: data.JUN <- (Flood Models to AI in Health, Andrew Goodwin)\n",
      "index: 48 | name: The Power of Location Data: How to Retrieve and Use it\n",
      "index: 49 | name: What’s your listening blind spot?\n",
      "index: 50 | name: DSS-2019-06:  LUIZ PIZZATO and DANIELLA ABURTO\n",
      "index: 51 | name: Sydney GitLab Meetup - Getting started with Auto DevOps\n",
      "index: 52 | name: #20 Turnkey chatbots and privacy-preserving data synthesis!\n",
      "index: 53 | name: Lifting the lid on GCP + Open Source vs Managed\n",
      "index: 54 | name: Testing with Cypress Workshop\n",
      "index: 55 | name: Cybersecurity Summit Sydney \n",
      "index: 56 | name: Testing in DevOps, Q&A with Katrina Clokie hosted by Woolworths\n",
      "index: 57 | name: Civita pre-HacktforEducation\n",
      "index: 58 | name: Managing Video as an Information Resource\n",
      "index: 59 | name: How to create the perfect recommendation? - Data analytics series, Sydney\n",
      "index: 60 | name: Devops DataOps Deliciousness...join us every 4th Thursday!\n",
      "index: 61 | name:  Workshop: Semiparametric regression with R - CPD99\n",
      "index: 62 | name: #BeerOps Syd Mid-Year Celeb 2019 – 2 July (Tues)\n",
      "index: 63 | name: PyData Sydney - Data Science & Analytics using Python, R, Julia + more \n",
      "index: 64 | name: July CBD Meetup: Storing information in Azure, from A to Z\n",
      "index: 65 | name: How to Grow Your Startup\n",
      "index: 66 | name: HOL:  Create Dashboards, Data Visualisations, and Analytic Solutions\n",
      "index: 67 | name: LoRa & The Things Network (TTN) Workshop\n",
      "index: 68 | name: Digital Village Meetup (Networking)\n",
      "index: 69 | name: Hackt for Access to Education\n",
      "index: 70 | name: Tanya Reilly: \"Being Glue\"\n",
      "index: 71 | name: \"To be announced\"\n",
      "index: 72 | name: Meet up with your analytics peers and chat\n",
      "index: 73 | name: Docker Meetup - RSVP\n",
      "index: 74 | name: Siligong Marketing Meetup - CRM, FB Ads + Automation\n",
      "index: 75 | name: July DevOps Meetup\n",
      "index: 76 | name: data.JUL <- Speaker TBC\n",
      "index: 77 | name: XConf Australia | Cloud Native Engineering for Data Intensive Applications\n",
      "index: 78 | name: SYDNEY: Infrastructure, Data and Application Migration Meetup\n",
      "index: 79 | name: Applying Bayesian Statistics to Financial Models\n",
      "index: 80 | name: Interview workshop\n",
      "index: 81 | name: (SYD) TECH TALK: The Price is Right?!\n"
     ]
    }
   ],
   "source": [
    "i = 0\n",
    "for event in data['events']:\n",
    "    print(\"index: {} | name: {}\".format(i,event['name']))\n",
    "    i += 1"
   ]
  },
  {
   "cell_type": "code",
   "execution_count": 7,
   "metadata": {},
   "outputs": [
    {
     "data": {
      "text/plain": [
       "{'created': 1559445756000,\n",
       " 'duration': 7200000,\n",
       " 'id': '261968693',\n",
       " 'name': '#20 Turnkey chatbots and privacy-preserving data synthesis!',\n",
       " 'date_in_series_pattern': False,\n",
       " 'status': 'upcoming',\n",
       " 'time': 1561449600000,\n",
       " 'local_date': '2019-06-25',\n",
       " 'local_time': '18:00',\n",
       " 'updated': 1559480853000,\n",
       " 'utc_offset': 36000000,\n",
       " 'waitlist_count': 0,\n",
       " 'yes_rsvp_count': 28,\n",
       " 'venue': {'id': 24458552,\n",
       "  'name': 'Tyro FinTech Hub - Events Space',\n",
       "  'lat': -33.86800765991211,\n",
       "  'lon': 151.2050018310547,\n",
       "  'repinned': True,\n",
       "  'address_1': 'Level 5, 155 Clarence Street',\n",
       "  'city': 'Sydney',\n",
       "  'country': 'au',\n",
       "  'localized_country_name': 'Australia'},\n",
       " 'group': {'created': 1453958357000,\n",
       "  'name': 'Sydney Natural Language Processing Meetup',\n",
       "  'id': 19450519,\n",
       "  'join_mode': 'open',\n",
       "  'lat': -33.869998931884766,\n",
       "  'lon': 151.2100067138672,\n",
       "  'urlname': 'Sydney-Natural-Language-Processing-Meetup',\n",
       "  'who': 'Humans',\n",
       "  'localized_location': 'Sydney, Australia',\n",
       "  'state': '',\n",
       "  'country': 'au',\n",
       "  'region': 'en_US',\n",
       "  'timezone': 'Australia/Sydney',\n",
       "  'meta_category': {'id': 132,\n",
       "   'shortname': 'beliefs',\n",
       "   'name': 'Beliefs',\n",
       "   'sort_name': 'Beliefs',\n",
       "   'photo': {'id': 450131925,\n",
       "    'highres_link': 'https://secure.meetupstatic.com/photos/event/2/e/9/5/highres_450131925.jpeg',\n",
       "    'photo_link': 'https://secure.meetupstatic.com/photos/event/2/e/9/5/600_450131925.jpeg',\n",
       "    'thumb_link': 'https://secure.meetupstatic.com/photos/event/2/e/9/5/thumb_450131925.jpeg',\n",
       "    'type': 'event',\n",
       "    'base_url': 'https://secure.meetupstatic.com'},\n",
       "   'category_ids': [22, 24, 28]},\n",
       "  'category': {'id': 22,\n",
       "   'name': 'New Age & Spirituality',\n",
       "   'shortname': 'new-age-spirituality',\n",
       "   'sort_name': 'New Age & Spirituality'}},\n",
       " 'link': 'https://www.meetup.com/Sydney-Natural-Language-Processing-Meetup/events/261968693/',\n",
       " 'description': '<p>#20 Turnkey chatbots and privacy-preserving data synthesis!<br/>Where: 5/155 Clarence St, Sydney NSW 2000<br/>When: Tuesday 25th June 2019 from 6pm; presentations from 6:30pm.</p> <p>We really love watching the Sydney NLP ecosystem grow. That\\'s why at SydNLP #20 two startups will be taking the opportunity to walk us through the technical challenges and discoveries they\\'ve made to date on their journey, in the complex fields of natural language understanding and generation.<br/>Hope to see you there! -- Team SydNLProc</p> <p>JOSH COMRIE AND GARETH CRONIN</p> <p>Title: Scaling Natural Language Understanding</p> <p>Abstract:</p> <p>At software scale-up Ambit we have created an enterprise conversation platform with a business-user-friendly code-free user experience for building natural language models and scripting conversations. We have dozens of enterprise customers in New Zealand and Australia and are taking the platform global.</p> <p>Join founders Josh Comrie and Gareth Cronin. Josh will discuss the birth and growth of Ambit, some customer case studies and his unique perspective as an angel investor and startup founder raising money. Gareth will focus on some of the challenges of building the platform, the role of machine learning, off-the-shelf \"AI\" cloud services, our vision for non-linear automated conversations, and the future of conversations in the large for enterprise businesses.</p> <p>Bio:<br/>Josh Comrie<br/>Josh is an Entrepreneur, Investor and Company Director. He’s a founder and the CEO of Ambit: a New Zealand founded AI Conversation Platform company. He’s invested in over 20 NZ hi-tech startups, so is behind some of NZ’s most successful technology exports. He acts as an director and adviser to several and Chair of one. Prior to his AI ventures, he has a background in human capital solutions, having founded and exited from 3 highly successful brands. He has been described as a serial entrepreneur.</p> <p>Gareth Cronin<br/>Gareth is CTO of Ambit, looking after product and technology vision, strategy, and execution. He is also an Executive General Manager at Xero, the cloud accounting and small business platform. Prior to founding Ambit and joining Xero, Gareth consulted for Air New Zealand and Vista Entertainment, led engineering at crime analytics software business Wynyard Group, at health software creator Orion Health, and at manufacturing software vendor Kiwiplan. Gareth serves on the board of the IT Professionals New Zealand\\'s (ITP) national tertiary degree accreditation programme under the Seoul Accord, and the advisory panel for the Auckland ICT Grad School. Gareth left an earlier career as a piano teacher and musician to graduate with a BSc(Hons) in Computer Science, work as a software developer, and later complete an MBA at the University of Auckland.</p> <p>TIM GARNSEY</p> <p>Title: Caring about people’s privacy</p> <p>Abstract: Caring about people’s privacy can pay off in big ways these days. As well as avoid eye watering fines (hello GDPR!), assembling data sets and protecting your reputaiton are easier when you can show people you are looking out for their interests.</p> <p>In the last year or so a number of approaches have made this much easier to do - in many cases there may be no reason not to. In this talk, I’ll run through some of the pros and cons of newer approaches to privacy respecting language modelling.</p> <p>Bio: Tim is a founder of Certitude Id, a company that helps companies get value from data without damaging their customer’s privacy. He divides his time between productionising software products and sifting through the firehose of theoretical machine learning research.</p> <p>Prior to this Tim spent six years absorbed in machine learning and data related roles in financial services tech companies including Atlassian, Airtasker, Spaceship and Prospa.</p> ',\n",
       " 'visibility': 'public',\n",
       " 'featured_photo': {'id': 481869937,\n",
       "  'highres_link': 'https://secure.meetupstatic.com/photos/event/2/6/d/1/highres_481869937.jpeg',\n",
       "  'photo_link': 'https://secure.meetupstatic.com/photos/event/2/6/d/1/600_481869937.jpeg',\n",
       "  'thumb_link': 'https://secure.meetupstatic.com/photos/event/2/6/d/1/thumb_481869937.jpeg',\n",
       "  'type': 'event',\n",
       "  'base_url': 'https://secure.meetupstatic.com'}}"
      ]
     },
     "execution_count": 7,
     "metadata": {},
     "output_type": "execute_result"
    }
   ],
   "source": [
    "data['events'][52]\n",
    "# 48, 52"
   ]
  },
  {
   "cell_type": "markdown",
   "metadata": {},
   "source": [
    "## Meetup Findings\n",
    "- Not sure if list is comprehensive - might make sense to assemble a list of data related groups, and then iterate through each \n",
    "- Will need to process datetimes from epoc to calendar before writing to database"
   ]
  },
  {
   "cell_type": "code",
   "execution_count": 8,
   "metadata": {},
   "outputs": [],
   "source": [
    "# DB Schema - Postgres 9.3+\n",
    "sql = \"\"\"\n",
    "CREATE TABLE IF NOT EXISTS raw_events(\n",
    "    event_id SERIAL PRIMARY KEY,\n",
    "    source_platform_id CHAR VARYING(20)\n",
    "    source_platform CHAR VARYING(50),\n",
    "    event_city CHAR VARYING(50),\n",
    "    event_date_local DATE,\n",
    "    event_time_local TIME,\n",
    "    event_name TEXT,\n",
    "    event_organiser TEXT,\n",
    "    event_location_name TEXT,\n",
    "    event_location_address TEXT,\n",
    "    event_lat NUMERIC(20,16),\n",
    "    event_lon NUMERIC(20,16),\n",
    "    registration_link TEXT,\n",
    "    description TEXT,\n",
    "    event_or_group_photo Text,\n",
    "    event_category CHAR VARYING(100),\n",
    "    event_category CHAR VARYING(100)\n",
    ")\n",
    "\"\"\""
   ]
  },
  {
   "cell_type": "code",
   "execution_count": 9,
   "metadata": {},
   "outputs": [
    {
     "data": {
      "text/plain": [
       "[{'event_id': '1',\n",
       "  'source_platform_id': '261218488',\n",
       "  'source_platform': 'Meetup',\n",
       "  'event_city': 'Sydney',\n",
       "  'event_date': '2019-06-14',\n",
       "  'event_time': '07:30',\n",
       "  'event_name': 'GA & Data Science Breakfast Meetup presents: The Rise of Automation',\n",
       "  'event_organiser': 'Data Science Breakfast Meetup',\n",
       "  'event_location_name': 'GA Sydney (Main Campus)',\n",
       "  'event_location_address': 'The Podium Building, 1 Market St Sydney AU',\n",
       "  'event_lat': '-33.869998931884766',\n",
       "  'event_lon': '151.20460510253906',\n",
       "  'registration_link': 'https://www.meetup.com/The-Sydney-Data-Science-Breakfast-Meetup-Group/events/261218488/',\n",
       "  'description': '<p>Note: this is a partnered event with General Assembly. Please make sure to register using the General Assembly event page, linked here: <a href=\"https://ga.co/2PPoZWd\" class=\"linkified\">https://ga.co/2PPoZWd</a></p> <p>****<br/>Abstract:<br/>There has been a lot of attention in the media surrounding the rise of automation. As advanced technologies such as robotic process automation, machine learning, and artificial intelligence have matured, companies have found practical applications to these new technologies.</p> <p>As part of this evolution, Intelligent Automation has become a topic of interest for business leaders across industries looking to combine cognitive capabilities with robotic process technologies to create a \"living\" system that can go beyond mundane and repeatable tasks. This is extremely advantageous to any organization that can implement these systems seamlessly but there is still a delta between the ideation of AI integration. and the ability to put these plans into effect. This delta can instill fear and anxiety around using AI as well as the added question of the ethical implications of AI such as Facial Recognition and targeted advertising.</p> <p>Join General Assembly and the Data Science Breakfast Meetup as we present a panel of experts at the forefront of AI incorporation for an engaging conversation that will touch on.</p> <p>*****<br/>Agenda:<br/>07:30 - arrival and networking<br/>07:50 - panel kick off<br/>08:30 - panel Q&amp;A<br/>09:00 - more networking (and anyone who needs to head off can leave)<br/>09:30 - close</p> <p>*****<br/>Speaker BIO\\'s:</p> <p>Anthony Tockar (Moderator):<br/>Anthony Tockar is director and cofounder at Verge Labs, a new type of AI company focused on the applied side of machine learning. A jack-of-all-trades, he has worked on problems across insurance, technology, telecommunications, loyalty, sports betting and even neuroscience. He qualified as an actuary, then moved into data science, completing an MS in Analytics at the prestigious Northwestern University.</p> <p>After hitting the headlines with his posts on data privacy at Neustar, he returned to Sydney to practice as a data scientist and cofounded the Minerva Collective, a not-for-profit focused on using data for social good, as well as multiple meetup groups. His key missions are to extend the reach and impact of data science to help people, and to assist Australian businesses to become more data driven.</p> <p>Sam Zheng (Panelist):<br/>Sam is Co-founder/CEO of Curious Thing - a voice-based AI interviewer for talent acquisition startup. Sam is a tech entrepreneur, self-taught engineer, and qualified actuary. Before Curious Thing, Sam was Co-founder/CTO of Hyper Anna, an AI for business analytics startup.</p> <p>Dima Galat (Panelist):<br/>Dima learned to program in Assembly on an i486, back when disk sizes were measured in megabytes. He always saw programming as a tool for facilitating communication between disparate data sources and end users.</p> <p>After his first encounter with data mining a decade ago, he became obsessed with applied machine learning, which supercharges this communication process. He has a background in computer vision productisation, data engineering, and a variety of analytics projects for clients ranging from financial institutions to United Nations.</p> <p>Usman Shahbaz (panelist):<br/>Usman is an experienced leader with more than 14 years of rich experience in applying product, network, risk-assurance and consumer analytics to drive actionable business outcomes. His core specialties include Advanced Analytics, Machine &amp; Deep Learning, Statistical Modelling and Optimisation. Usman is currently enrolled for a PhD in Machine Learning. He also holds an MBA and a Bachelor’s degree in Electrical Engineering.</p> <p>Passiona Cottee (panelist):<br/>Data Scientist, Commonwealth Bank, Co-lecturer at UTS</p> ',\n",
       "  'event_or_group_photo': 'https://secure.meetupstatic.com/photos/event/c/6/6/5/highres_481070789.jpeg',\n",
       "  'event_format': 'panel',\n",
       "  'event_category': 'automation'}]"
      ]
     },
     "execution_count": 9,
     "metadata": {},
     "output_type": "execute_result"
    }
   ],
   "source": [
    "# Response Schema based on Meetup\n",
    "[\n",
    "    {\n",
    "        'event_id': '1',\n",
    "        'source_platform_id': '261218488',\n",
    "        'source_platform': 'Meetup',\n",
    "        'event_city': 'Sydney',\n",
    "        'event_date': '2019-06-14',\n",
    "        'event_time': '07:30',\n",
    "        'event_name': 'GA & Data Science Breakfast Meetup presents: The Rise of Automation',\n",
    "        'event_organiser': 'Data Science Breakfast Meetup',\n",
    "        'event_location_name': 'GA Sydney (Main Campus)',\n",
    "        'event_location_address': 'The Podium Building, 1 Market St Sydney AU',\n",
    "        'event_lat': '-33.869998931884766',\n",
    "        'event_lon': '151.20460510253906',\n",
    "        'registration_link': 'https://www.meetup.com/The-Sydney-Data-Science-Breakfast-Meetup-Group/events/261218488/',\n",
    "        'description': '<p>Note: this is a partnered event with General Assembly. Please make sure to register using the General Assembly event page, linked here: <a href=\"https://ga.co/2PPoZWd\" class=\"linkified\">https://ga.co/2PPoZWd</a></p> <p>****<br/>Abstract:<br/>There has been a lot of attention in the media surrounding the rise of automation. As advanced technologies such as robotic process automation, machine learning, and artificial intelligence have matured, companies have found practical applications to these new technologies.</p> <p>As part of this evolution, Intelligent Automation has become a topic of interest for business leaders across industries looking to combine cognitive capabilities with robotic process technologies to create a \"living\" system that can go beyond mundane and repeatable tasks. This is extremely advantageous to any organization that can implement these systems seamlessly but there is still a delta between the ideation of AI integration. and the ability to put these plans into effect. This delta can instill fear and anxiety around using AI as well as the added question of the ethical implications of AI such as Facial Recognition and targeted advertising.</p> <p>Join General Assembly and the Data Science Breakfast Meetup as we present a panel of experts at the forefront of AI incorporation for an engaging conversation that will touch on.</p> <p>*****<br/>Agenda:<br/>07:30 - arrival and networking<br/>07:50 - panel kick off<br/>08:30 - panel Q&amp;A<br/>09:00 - more networking (and anyone who needs to head off can leave)<br/>09:30 - close</p> <p>*****<br/>Speaker BIO\\'s:</p> <p>Anthony Tockar (Moderator):<br/>Anthony Tockar is director and cofounder at Verge Labs, a new type of AI company focused on the applied side of machine learning. A jack-of-all-trades, he has worked on problems across insurance, technology, telecommunications, loyalty, sports betting and even neuroscience. He qualified as an actuary, then moved into data science, completing an MS in Analytics at the prestigious Northwestern University.</p> <p>After hitting the headlines with his posts on data privacy at Neustar, he returned to Sydney to practice as a data scientist and cofounded the Minerva Collective, a not-for-profit focused on using data for social good, as well as multiple meetup groups. His key missions are to extend the reach and impact of data science to help people, and to assist Australian businesses to become more data driven.</p> <p>Sam Zheng (Panelist):<br/>Sam is Co-founder/CEO of Curious Thing - a voice-based AI interviewer for talent acquisition startup. Sam is a tech entrepreneur, self-taught engineer, and qualified actuary. Before Curious Thing, Sam was Co-founder/CTO of Hyper Anna, an AI for business analytics startup.</p> <p>Dima Galat (Panelist):<br/>Dima learned to program in Assembly on an i486, back when disk sizes were measured in megabytes. He always saw programming as a tool for facilitating communication between disparate data sources and end users.</p> <p>After his first encounter with data mining a decade ago, he became obsessed with applied machine learning, which supercharges this communication process. He has a background in computer vision productisation, data engineering, and a variety of analytics projects for clients ranging from financial institutions to United Nations.</p> <p>Usman Shahbaz (panelist):<br/>Usman is an experienced leader with more than 14 years of rich experience in applying product, network, risk-assurance and consumer analytics to drive actionable business outcomes. His core specialties include Advanced Analytics, Machine &amp; Deep Learning, Statistical Modelling and Optimisation. Usman is currently enrolled for a PhD in Machine Learning. He also holds an MBA and a Bachelor’s degree in Electrical Engineering.</p> <p>Passiona Cottee (panelist):<br/>Data Scientist, Commonwealth Bank, Co-lecturer at UTS</p> ',\n",
    "        'event_or_group_photo': 'https://secure.meetupstatic.com/photos/event/c/6/6/5/highres_481070789.jpeg',\n",
    "        'event_format': 'panel',\n",
    "        'event_category': 'automation'       \n",
    "    }\n",
    "]"
   ]
  },
  {
   "cell_type": "markdown",
   "metadata": {},
   "source": [
    "## Pull Data from Eventbrite\n",
    "Involves oath2 to get an access token. Sorting out token flow is WIP <br>\n",
    "*References:*\n",
    "- [Requests Backend application flow](https://requests-oauthlib.readthedocs.io/en/latest/oauth2_workflow.html#backend-application-flow)\n",
    "- [EventBrite API Docs](https://www.eventbrite.com/platform/api)"
   ]
  },
  {
   "cell_type": "code",
   "execution_count": 10,
   "metadata": {},
   "outputs": [],
   "source": [
    "# https://pypi.org/project/python-oauth2/\n",
    "import oauth2"
   ]
  },
  {
   "cell_type": "code",
   "execution_count": 11,
   "metadata": {},
   "outputs": [],
   "source": [
    "# See if a similar flow to twitter works\n",
    "def oauth_req(url, key, secret, http_method=\"GET\", post_body=\"\", http_headers=None):\n",
    "    consumer = oauth2.Consumer(key=CONSUMER_KEY, secret=CONSUMER_SECRET)\n",
    "    token = oauth2.Token(key=key, secret=secret)\n",
    "    client = oauth2.Client(consumer, token)\n",
    "    resp, content = client.request( url, method=http_method, body=post_body, headers=http_headers )\n",
    "    return content"
   ]
  },
  {
   "cell_type": "code",
   "execution_count": 12,
   "metadata": {},
   "outputs": [
    {
     "ename": "AttributeError",
     "evalue": "module 'oauth2' has no attribute 'Consumer'",
     "output_type": "error",
     "traceback": [
      "\u001b[1;31m---------------------------------------------------------------------------\u001b[0m",
      "\u001b[1;31mAttributeError\u001b[0m                            Traceback (most recent call last)",
      "\u001b[1;32m<ipython-input-12-bc9e974ea65c>\u001b[0m in \u001b[0;36m<module>\u001b[1;34m\u001b[0m\n\u001b[0;32m      1\u001b[0m \u001b[0murl_\u001b[0m \u001b[1;33m=\u001b[0m \u001b[1;34m\"https://www.eventbrite.com/oauth/authorize\"\u001b[0m\u001b[1;33m\u001b[0m\u001b[1;33m\u001b[0m\u001b[0m\n\u001b[1;32m----> 2\u001b[1;33m \u001b[0mtest\u001b[0m \u001b[1;33m=\u001b[0m \u001b[0moauth_req\u001b[0m\u001b[1;33m(\u001b[0m\u001b[0murl_\u001b[0m\u001b[1;33m,\u001b[0m\u001b[0meventbrite_api_key_public\u001b[0m\u001b[1;33m,\u001b[0m\u001b[0meventbrite_api_client_secret\u001b[0m\u001b[1;33m)\u001b[0m\u001b[1;33m\u001b[0m\u001b[1;33m\u001b[0m\u001b[0m\n\u001b[0m\u001b[0;32m      3\u001b[0m \u001b[1;31m# Fail\u001b[0m\u001b[1;33m\u001b[0m\u001b[1;33m\u001b[0m\u001b[1;33m\u001b[0m\u001b[0m\n",
      "\u001b[1;32m<ipython-input-11-1f5542ef31c4>\u001b[0m in \u001b[0;36moauth_req\u001b[1;34m(url, key, secret, http_method, post_body, http_headers)\u001b[0m\n\u001b[0;32m      1\u001b[0m \u001b[1;31m# See if a similar flow to twitter works\u001b[0m\u001b[1;33m\u001b[0m\u001b[1;33m\u001b[0m\u001b[1;33m\u001b[0m\u001b[0m\n\u001b[0;32m      2\u001b[0m \u001b[1;32mdef\u001b[0m \u001b[0moauth_req\u001b[0m\u001b[1;33m(\u001b[0m\u001b[0murl\u001b[0m\u001b[1;33m,\u001b[0m \u001b[0mkey\u001b[0m\u001b[1;33m,\u001b[0m \u001b[0msecret\u001b[0m\u001b[1;33m,\u001b[0m \u001b[0mhttp_method\u001b[0m\u001b[1;33m=\u001b[0m\u001b[1;34m\"GET\"\u001b[0m\u001b[1;33m,\u001b[0m \u001b[0mpost_body\u001b[0m\u001b[1;33m=\u001b[0m\u001b[1;34m\"\"\u001b[0m\u001b[1;33m,\u001b[0m \u001b[0mhttp_headers\u001b[0m\u001b[1;33m=\u001b[0m\u001b[1;32mNone\u001b[0m\u001b[1;33m)\u001b[0m\u001b[1;33m:\u001b[0m\u001b[1;33m\u001b[0m\u001b[1;33m\u001b[0m\u001b[0m\n\u001b[1;32m----> 3\u001b[1;33m     \u001b[0mconsumer\u001b[0m \u001b[1;33m=\u001b[0m \u001b[0moauth2\u001b[0m\u001b[1;33m.\u001b[0m\u001b[0mConsumer\u001b[0m\u001b[1;33m(\u001b[0m\u001b[0mkey\u001b[0m\u001b[1;33m=\u001b[0m\u001b[0mCONSUMER_KEY\u001b[0m\u001b[1;33m,\u001b[0m \u001b[0msecret\u001b[0m\u001b[1;33m=\u001b[0m\u001b[0mCONSUMER_SECRET\u001b[0m\u001b[1;33m)\u001b[0m\u001b[1;33m\u001b[0m\u001b[1;33m\u001b[0m\u001b[0m\n\u001b[0m\u001b[0;32m      4\u001b[0m     \u001b[0mtoken\u001b[0m \u001b[1;33m=\u001b[0m \u001b[0moauth2\u001b[0m\u001b[1;33m.\u001b[0m\u001b[0mToken\u001b[0m\u001b[1;33m(\u001b[0m\u001b[0mkey\u001b[0m\u001b[1;33m=\u001b[0m\u001b[0mkey\u001b[0m\u001b[1;33m,\u001b[0m \u001b[0msecret\u001b[0m\u001b[1;33m=\u001b[0m\u001b[0msecret\u001b[0m\u001b[1;33m)\u001b[0m\u001b[1;33m\u001b[0m\u001b[1;33m\u001b[0m\u001b[0m\n\u001b[0;32m      5\u001b[0m     \u001b[0mclient\u001b[0m \u001b[1;33m=\u001b[0m \u001b[0moauth2\u001b[0m\u001b[1;33m.\u001b[0m\u001b[0mClient\u001b[0m\u001b[1;33m(\u001b[0m\u001b[0mconsumer\u001b[0m\u001b[1;33m,\u001b[0m \u001b[0mtoken\u001b[0m\u001b[1;33m)\u001b[0m\u001b[1;33m\u001b[0m\u001b[1;33m\u001b[0m\u001b[0m\n",
      "\u001b[1;31mAttributeError\u001b[0m: module 'oauth2' has no attribute 'Consumer'"
     ]
    }
   ],
   "source": [
    "url_ = \"https://www.eventbrite.com/oauth/authorize\"\n",
    "test = oauth_req(url_,eventbrite_api_key_public,eventbrite_api_client_secret)\n",
    "# Fail"
   ]
  }
 ],
 "metadata": {
  "kernelspec": {
   "display_name": "Python [conda env:eventscraper]",
   "language": "python",
   "name": "conda-env-eventscraper-py"
  },
  "language_info": {
   "codemirror_mode": {
    "name": "ipython",
    "version": 3
   },
   "file_extension": ".py",
   "mimetype": "text/x-python",
   "name": "python",
   "nbconvert_exporter": "python",
   "pygments_lexer": "ipython3",
   "version": "3.7.3"
  }
 },
 "nbformat": 4,
 "nbformat_minor": 2
}
