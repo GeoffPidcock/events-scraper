{
 "cells": [
  {
   "cell_type": "markdown",
   "metadata": {},
   "source": [
    "# API Data Schema\n",
    "Geoff Pidcock | 20190613\n",
    "\n",
    "## Scope\n",
    "Use the Python Requests library to extract information about event listings, and determine an appropriate schema.\n",
    "\n",
    "### TODO\n",
    "- Build out the query string for Sydney events\n",
    "- Double check Eventbrite schema against example schema."
   ]
  },
  {
   "cell_type": "code",
   "execution_count": 1,
   "metadata": {},
   "outputs": [],
   "source": [
    "# See environment.yml for setup instructions\n",
    "import sys\n",
    "import os\n",
    "import pandas as pd\n",
    "import json\n",
    "import requests"
   ]
  },
  {
   "cell_type": "code",
   "execution_count": 2,
   "metadata": {},
   "outputs": [
    {
     "name": "stdout",
     "output_type": "stream",
     "text": [
      "C:\\Users\\Geoff Pidcock\\Anaconda_Projects\\Other Projects\\events-aggregator\\events-scraper\\notebooks\n",
      "C:\\Users\\Geoff Pidcock\\Anaconda_Projects\\Other Projects\\events-aggregator\n"
     ]
    }
   ],
   "source": [
    "# Get API keys from the following places:\n",
    "## Eventbrite: https://www.eventbrite.com.au/account-settings/apps\n",
    "## Meetup: https://secure.meetup.com/meetup_api/key/\n",
    "# This has been stored in a creds python file above the parent directory\n",
    "print(os.getcwd())\n",
    "os.chdir('..//..//')\n",
    "print(os.getcwd())"
   ]
  },
  {
   "cell_type": "code",
   "execution_count": 3,
   "metadata": {},
   "outputs": [],
   "source": [
    "from creds import meetup_api_key, eventbrite_api_key_public\n",
    "## Alternative - specify keys manually here:\n",
    "# meetup_api_key = 'YOUR KEY' # https://secure.meetup.com/meetup_api/key/\n",
    "# eventbrite_api_key = 'YOUR KEY' # https://www.eventbrite.com/support/articles/en_US/How_To/how-to-locate-your-eventbrite-api-user-key?lg=en_US"
   ]
  },
  {
   "cell_type": "markdown",
   "metadata": {},
   "source": [
    "## Pull Data from Meetup API\n",
    "[Docs](https://www.meetup.com/meetup_api/docs/)"
   ]
  },
  {
   "cell_type": "code",
   "execution_count": 4,
   "metadata": {},
   "outputs": [
    {
     "data": {
      "text/plain": [
       "80"
      ]
     },
     "execution_count": 4,
     "metadata": {},
     "output_type": "execute_result"
    }
   ],
   "source": [
    "# https://www.meetup.com/meetup_api/docs/find/upcoming_events/\n",
    "# Todo - look into topic categories for smarter filtering - https://www.meetup.com/meetup_api/docs/find/topic_categories/\n",
    "payload = dict(\n",
    "    text = 'Data',\n",
    "    lat = '-33.87',\n",
    "    lon = '151.21',\n",
    "    radius = '100',\n",
    "    page = '100',\n",
    "    order = 'time',\n",
    "    fields = 'featured_photo,key_photo,key_photo,meta_category,group_category',\n",
    "    key = meetup_api_key\n",
    ")\n",
    "attempt = requests.get(\"https://api.meetup.com/find/upcoming_events\",params=payload)\n",
    "data = attempt.json()\n",
    "len(data['events'])"
   ]
  },
  {
   "cell_type": "code",
   "execution_count": 5,
   "metadata": {},
   "outputs": [
    {
     "data": {
      "text/plain": [
       "{'id': 1000653,\n",
       " 'city': 'Sydney',\n",
       " 'lat': -33.87,\n",
       " 'lon': 151.21,\n",
       " 'state': '',\n",
       " 'country': 'au',\n",
       " 'zip': 'meetup1',\n",
       " 'member_count': 21737}"
      ]
     },
     "execution_count": 5,
     "metadata": {},
     "output_type": "execute_result"
    }
   ],
   "source": [
    "data['city']"
   ]
  },
  {
   "cell_type": "code",
   "execution_count": 6,
   "metadata": {},
   "outputs": [
    {
     "name": "stdout",
     "output_type": "stream",
     "text": [
      "index: 0 | name: TWGAS #6\n",
      "index: 1 | name: The Humans of Ai Podcast\n",
      "index: 2 | name: GA & Data Science Breakfast Meetup presents: The Rise of Automation\n",
      "index: 3 | name: Learn to code at your own pace\n",
      "index: 4 | name: SCP: Facebook Hacker Cup Special\n",
      "index: 5 | name: Advanced-level volleyball\n",
      "index: 6 | name: Sydney: Home grown IoT. Presented by Aaron Powell\n",
      "index: 7 | name: Alteryx User Group Sydney\n",
      "index: 8 | name: Docker Meetup - RSVP\n",
      "index: 9 | name: Newy DevOps & Cloud (Infracoders) June 2019 Meetup\n",
      "index: 10 | name: Unleash the power of data fabrics and unlearn old data management practices...\n",
      "index: 11 | name: Kick off Meetup\n",
      "index: 12 | name: Python Basics Class \n",
      "index: 13 | name: #ShutUpandCode\n",
      "index: 14 | name: OpenMined Sydney - Starter Session\n",
      "index: 15 | name: 匠人线上公开课 | 求职新手训练营 , 嘉宾来自 Facebook, Canva, ANZ, Rokt, CoreLogic等\n",
      "index: 16 | name: Content Marketing Deepdive: Connect and Convert\n",
      "index: 17 | name: June DevOps Meetup\n",
      "index: 18 | name: Why The Gender Pay Gap in Tech Gets Worse Not Better\n",
      "index: 19 | name: June Edition, Sydney Serverless\n",
      "index: 20 | name: June Sydney HashiCorp Session\n",
      "index: 21 | name: Masterclass - How machine learning works for Big Data: tips, tricks and cases - \n",
      "index: 22 | name: data.JUN <- (Flood Models to AI in Health, Andrew Goodwin)\n",
      "index: 23 | name: Ad Tech Meetup Thursday June 20th\n",
      "index: 24 | name: The Power of Location Data: How to Retrieve and Use it\n",
      "index: 25 | name: What’s your listening blind spot?\n",
      "index: 26 | name: DSS-2019-06:  LUIZ PIZZATO and DANIELLA ABURTO\n",
      "index: 27 | name: Lifting the lid on GCP + Server Side Tracking\n",
      "index: 28 | name: Sydney GitLab Meetup - Getting started with Auto DevOps\n",
      "index: 29 | name: #20 Turnkey chatbots and privacy-preserving data synthesis!\n",
      "index: 30 | name: June Meetup\n",
      "index: 31 | name: CSR & The Modern Slavery Act in Australia and NSW\n",
      "index: 32 | name: Build an Open Data API using Flask-RESTPlus\n",
      "index: 33 | name: How UX Design Helps Users Understand Data & Digital Engagement Research Results \n",
      "index: 34 | name: Cypress JS Workshop\n",
      "index: 35 | name: Cybersecurity Summit Sydney \n",
      "index: 36 | name: Testing in DevOps, Q&A with Katrina Clokie hosted by Woolworths\n",
      "index: 37 | name: Civita pre-HacktforEducation\n",
      "index: 38 | name: Sydney Python\n",
      "index: 39 | name: Managing Video as an Information Resource\n",
      "index: 40 | name: How to create the perfect recommendation? - Data analytics series, Sydney\n",
      "index: 41 | name: Devops DataOps Deliciousness...join us every 4th Thursday!\n",
      "index: 42 | name: Monthy IoT Meetup\n",
      "index: 43 | name: Hands on Data Science - Fifth Meeting, and GPU Computing!\n",
      "index: 44 | name:  Workshop: Semiparametric regression with R - CPD99\n",
      "index: 45 | name: #BeerOps Syd Mid-Year Celeb 2019 – 2 July (Tues)\n",
      "index: 46 | name: PyData Sydney - Data Science & Analytics using Python, R, Julia + more \n",
      "index: 47 | name: Got an Idea? We’ll help you convert it into a startup\n",
      "index: 48 | name: July CBD Meetup: Storing information in Azure, from A to Z\n",
      "index: 49 | name: How to Grow Your Startup\n",
      "index: 50 | name: HOL:  Create Dashboards, Data Visualisations, and Analytic Solutions\n",
      "index: 51 | name: Future of the workforce with AI\n",
      "index: 52 | name: LoRa & The Things Network (TTN) Workshop\n",
      "index: 53 | name: Digital Village Meetup (Networking)\n",
      "index: 54 | name: Hackt for Access to Education\n",
      "index: 55 | name: Responsible Runners Coogee - Pulse up, waste down for a clean beach\n",
      "index: 56 | name: Tanya Reilly: \"Being Glue\"\n",
      "index: 57 | name: (FREE LIVE EVENT & EBOOK!) How To Buy Discounted Property That Always Rents Out\n",
      "index: 58 | name: \"To be announced\"\n",
      "index: 59 | name: July Meetup \n",
      "index: 60 | name: Meet up with your analytics peers and chat\n",
      "index: 61 | name: Algorithms, Graphs and Awesome Procedures\n",
      "index: 62 | name: Docker Meetup - RSVP\n",
      "index: 63 | name: Siligong Marketing Meetup - CRM, FB Ads + Automation\n",
      "index: 64 | name: July DevOps Meetup\n",
      "index: 65 | name: data.JUL <- Speaker TBC\n",
      "index: 66 | name: July Edition, Sydney Data Engineering meetup\n",
      "index: 67 | name: XConf Australia | Cloud Native Engineering for Data Intensive Applications\n",
      "index: 68 | name: CSR & The Modern Slavery Act in Australia and NSW\n",
      "index: 69 | name: SYDNEY: Infrastructure, Data and Application Migration Meetup\n",
      "index: 70 | name: Applying Bayesian Statistics to Financial Models\n",
      "index: 71 | name: Interview workshop\n",
      "index: 72 | name: Devops DataOps Deliciousness...join us every 4th Thursday!\n",
      "index: 73 | name: Driving Growth With Performance Marketing \n",
      "index: 74 | name: Brene Brown Live\n",
      "index: 75 | name: Happy Birthday R-Ladies Sydney!\n",
      "index: 76 | name: Boost Your Income With Property: Discount buying, Capital Growth & Cash Flow\n",
      "index: 77 | name: Sydney Meetup #8\n",
      "index: 78 | name: Startup Grind hosts Peter Huynh (Qualgro Ventures)\n",
      "index: 79 | name: Digital Village Meetup (Networking)\n"
     ]
    }
   ],
   "source": [
    "i = 0\n",
    "for event in data['events']:\n",
    "    print(\"index: {} | name: {}\".format(i,event['name']))\n",
    "    i += 1"
   ]
  },
  {
   "cell_type": "code",
   "execution_count": 7,
   "metadata": {},
   "outputs": [
    {
     "data": {
      "text/plain": [
       "{'created': 1558583944000,\n",
       " 'duration': 5400000,\n",
       " 'id': '261696147',\n",
       " 'name': 'LoRa & The Things Network (TTN) Workshop',\n",
       " 'rsvp_limit': 8,\n",
       " 'date_in_series_pattern': False,\n",
       " 'status': 'upcoming',\n",
       " 'time': 1562227200000,\n",
       " 'local_date': '2019-07-04',\n",
       " 'local_time': '18:00',\n",
       " 'updated': 1558583944000,\n",
       " 'utc_offset': 36000000,\n",
       " 'waitlist_count': 0,\n",
       " 'yes_rsvp_count': 4,\n",
       " 'venue': {'id': 24974651,\n",
       "  'name': 'Core Electronics',\n",
       "  'lat': -32.94047164916992,\n",
       "  'lon': 151.71743774414062,\n",
       "  'repinned': True,\n",
       "  'address_1': 'Unit 18, 132 Garden Grove Parade',\n",
       "  'city': 'Newcastle',\n",
       "  'country': 'au',\n",
       "  'localized_country_name': 'Australia'},\n",
       " 'group': {'created': 1483689782000,\n",
       "  'name': 'Core Electronics Workshops',\n",
       "  'id': 21785246,\n",
       "  'join_mode': 'open',\n",
       "  'lat': -32.91999816894531,\n",
       "  'lon': 151.75,\n",
       "  'urlname': 'Core-Electronics-Workshops',\n",
       "  'who': 'Makers',\n",
       "  'localized_location': 'Newcastle, Australia',\n",
       "  'state': '',\n",
       "  'country': 'au',\n",
       "  'region': 'en_US',\n",
       "  'timezone': 'Australia/Sydney',\n",
       "  'meta_category': {'id': 292,\n",
       "   'shortname': 'tech',\n",
       "   'name': 'Tech',\n",
       "   'sort_name': 'Tech',\n",
       "   'photo': {'id': 450131949,\n",
       "    'highres_link': 'https://secure.meetupstatic.com/photos/event/2/e/a/d/highres_450131949.jpeg',\n",
       "    'photo_link': 'https://secure.meetupstatic.com/photos/event/2/e/a/d/600_450131949.jpeg',\n",
       "    'thumb_link': 'https://secure.meetupstatic.com/photos/event/2/e/a/d/thumb_450131949.jpeg',\n",
       "    'type': 'event',\n",
       "    'base_url': 'https://secure.meetupstatic.com'},\n",
       "   'category_ids': [34]},\n",
       "  'category': {'id': 34,\n",
       "   'name': 'Tech',\n",
       "   'shortname': 'tech',\n",
       "   'sort_name': 'Tech'}},\n",
       " 'link': 'https://www.meetup.com/Core-Electronics-Workshops/events/261696147/',\n",
       " 'description': '<p>Bookings are essential <a href=\"https://core-electronics.com.au/lora-the-things-network-ttn-workshop.html\" class=\"linkified\">https://core-electronics.com.au/lora-the-things-network-ttn-workshop.html</a></p> <p>By the end of this workshop, you\\'ll have a firm understanding of LoRa from a makers perspective and have created a node that is connected to the \"The Things Network\" (TTN) which sends data into the cloud.</p> <p>Some of the topics covered in our LoRa workshop:</p> <p>- What is LoRa and how it fits into IoT<br/>- LoRa implementation methods<br/>- What is \"The Things Network\" (TTN)<br/>- How to setup an application on TTN<br/>- How to build a node (device) which connects to TTN via LoRa<br/>- How to monitor LoRa traffic data<br/>- How to use the LoRa console to manage your applications &amp; devices</p> <p>This is a hands-on workshop. All of the gear is provided so you can physically write code and send data to the cloud. There is no need to bring your own laptop, just head down and get ready to learn!</p> <p>Again, bookings are essential <a href=\"https://core-electronics.com.au/lora-the-things-network-ttn-workshop.html\" class=\"linkified\">https://core-electronics.com.au/lora-the-things-network-ttn-workshop.html</a></p> ',\n",
       " 'how_to_find_us': 'Put \"Core Electronics\" into Google maps, the pin will be on our door.',\n",
       " 'visibility': 'public',\n",
       " 'featured_photo': {'id': 474861595,\n",
       "  'highres_link': 'https://secure.meetupstatic.com/photos/event/5/4/5/b/highres_474861595.jpeg',\n",
       "  'photo_link': 'https://secure.meetupstatic.com/photos/event/5/4/5/b/600_474861595.jpeg',\n",
       "  'thumb_link': 'https://secure.meetupstatic.com/photos/event/5/4/5/b/thumb_474861595.jpeg',\n",
       "  'type': 'event',\n",
       "  'base_url': 'https://secure.meetupstatic.com'}}"
      ]
     },
     "execution_count": 7,
     "metadata": {},
     "output_type": "execute_result"
    }
   ],
   "source": [
    "data['events'][52]\n",
    "# 48, 52"
   ]
  },
  {
   "cell_type": "markdown",
   "metadata": {},
   "source": [
    "## Meetup Findings\n",
    "- Not sure if list is comprehensive - might make sense to assemble a list of data related groups, and then iterate through each \n",
    "- Will need to process datetimes from epoc to calendar before writing to database"
   ]
  },
  {
   "cell_type": "code",
   "execution_count": 8,
   "metadata": {},
   "outputs": [],
   "source": [
    "# DB Schema - Postgres 9.3+\n",
    "sql = \"\"\"\n",
    "CREATE TABLE IF NOT EXISTS raw_events(\n",
    "    event_id SERIAL PRIMARY KEY,\n",
    "    source_platform_id CHAR VARYING(20)\n",
    "    source_platform CHAR VARYING(50),\n",
    "    event_city CHAR VARYING(50),\n",
    "    event_date_local DATE,\n",
    "    event_time_local TIME,\n",
    "    event_name TEXT,\n",
    "    event_organiser TEXT,\n",
    "    event_location_name TEXT,\n",
    "    event_location_address TEXT,\n",
    "    event_lat NUMERIC(20,16),\n",
    "    event_lon NUMERIC(20,16),\n",
    "    registration_link TEXT,\n",
    "    description TEXT,\n",
    "    event_or_group_photo Text,\n",
    "    event_category CHAR VARYING(100),\n",
    "    event_category CHAR VARYING(100)\n",
    ")\n",
    "\"\"\""
   ]
  },
  {
   "cell_type": "code",
   "execution_count": 9,
   "metadata": {},
   "outputs": [
    {
     "data": {
      "text/plain": [
       "[{'event_id': '1',\n",
       "  'source_platform_id': '261218488',\n",
       "  'source_platform': 'Meetup',\n",
       "  'event_city': 'Sydney',\n",
       "  'event_date': '2019-06-14',\n",
       "  'event_time': '07:30',\n",
       "  'event_name': 'GA & Data Science Breakfast Meetup presents: The Rise of Automation',\n",
       "  'event_organiser': 'Data Science Breakfast Meetup',\n",
       "  'event_location_name': 'GA Sydney (Main Campus)',\n",
       "  'event_location_address': 'The Podium Building, 1 Market St Sydney AU',\n",
       "  'event_lat': '-33.869998931884766',\n",
       "  'event_lon': '151.20460510253906',\n",
       "  'registration_link': 'https://www.meetup.com/The-Sydney-Data-Science-Breakfast-Meetup-Group/events/261218488/',\n",
       "  'description': '<p>Note: this is a partnered event with General Assembly. Please make sure to register using the General Assembly event page, linked here: <a href=\"https://ga.co/2PPoZWd\" class=\"linkified\">https://ga.co/2PPoZWd</a></p> <p>****<br/>Abstract:<br/>There has been a lot of attention in the media surrounding the rise of automation. As advanced technologies such as robotic process automation, machine learning, and artificial intelligence have matured, companies have found practical applications to these new technologies.</p> <p>As part of this evolution, Intelligent Automation has become a topic of interest for business leaders across industries looking to combine cognitive capabilities with robotic process technologies to create a \"living\" system that can go beyond mundane and repeatable tasks. This is extremely advantageous to any organization that can implement these systems seamlessly but there is still a delta between the ideation of AI integration. and the ability to put these plans into effect. This delta can instill fear and anxiety around using AI as well as the added question of the ethical implications of AI such as Facial Recognition and targeted advertising.</p> <p>Join General Assembly and the Data Science Breakfast Meetup as we present a panel of experts at the forefront of AI incorporation for an engaging conversation that will touch on.</p> <p>*****<br/>Agenda:<br/>07:30 - arrival and networking<br/>07:50 - panel kick off<br/>08:30 - panel Q&amp;A<br/>09:00 - more networking (and anyone who needs to head off can leave)<br/>09:30 - close</p> <p>*****<br/>Speaker BIO\\'s:</p> <p>Anthony Tockar (Moderator):<br/>Anthony Tockar is director and cofounder at Verge Labs, a new type of AI company focused on the applied side of machine learning. A jack-of-all-trades, he has worked on problems across insurance, technology, telecommunications, loyalty, sports betting and even neuroscience. He qualified as an actuary, then moved into data science, completing an MS in Analytics at the prestigious Northwestern University.</p> <p>After hitting the headlines with his posts on data privacy at Neustar, he returned to Sydney to practice as a data scientist and cofounded the Minerva Collective, a not-for-profit focused on using data for social good, as well as multiple meetup groups. His key missions are to extend the reach and impact of data science to help people, and to assist Australian businesses to become more data driven.</p> <p>Sam Zheng (Panelist):<br/>Sam is Co-founder/CEO of Curious Thing - a voice-based AI interviewer for talent acquisition startup. Sam is a tech entrepreneur, self-taught engineer, and qualified actuary. Before Curious Thing, Sam was Co-founder/CTO of Hyper Anna, an AI for business analytics startup.</p> <p>Dima Galat (Panelist):<br/>Dima learned to program in Assembly on an i486, back when disk sizes were measured in megabytes. He always saw programming as a tool for facilitating communication between disparate data sources and end users.</p> <p>After his first encounter with data mining a decade ago, he became obsessed with applied machine learning, which supercharges this communication process. He has a background in computer vision productisation, data engineering, and a variety of analytics projects for clients ranging from financial institutions to United Nations.</p> <p>Usman Shahbaz (panelist):<br/>Usman is an experienced leader with more than 14 years of rich experience in applying product, network, risk-assurance and consumer analytics to drive actionable business outcomes. His core specialties include Advanced Analytics, Machine &amp; Deep Learning, Statistical Modelling and Optimisation. Usman is currently enrolled for a PhD in Machine Learning. He also holds an MBA and a Bachelor’s degree in Electrical Engineering.</p> <p>Passiona Cottee (panelist):<br/>Data Scientist, Commonwealth Bank, Co-lecturer at UTS</p> ',\n",
       "  'event_or_group_photo': 'https://secure.meetupstatic.com/photos/event/c/6/6/5/highres_481070789.jpeg',\n",
       "  'event_format': 'panel',\n",
       "  'event_category': 'automation'}]"
      ]
     },
     "execution_count": 9,
     "metadata": {},
     "output_type": "execute_result"
    }
   ],
   "source": [
    "# Response Schema based on Meetup\n",
    "[\n",
    "    {\n",
    "        'event_id': '1',\n",
    "        'source_platform_id': '261218488',\n",
    "        'source_platform': 'Meetup',\n",
    "        'event_city': 'Sydney',\n",
    "        'event_date': '2019-06-14',\n",
    "        'event_time': '07:30',\n",
    "        'event_name': 'GA & Data Science Breakfast Meetup presents: The Rise of Automation',\n",
    "        'event_organiser': 'Data Science Breakfast Meetup',\n",
    "        'event_location_name': 'GA Sydney (Main Campus)',\n",
    "        'event_location_address': 'The Podium Building, 1 Market St Sydney AU',\n",
    "        'event_lat': '-33.869998931884766',\n",
    "        'event_lon': '151.20460510253906',\n",
    "        'registration_link': 'https://www.meetup.com/The-Sydney-Data-Science-Breakfast-Meetup-Group/events/261218488/',\n",
    "        'description': '<p>Note: this is a partnered event with General Assembly. Please make sure to register using the General Assembly event page, linked here: <a href=\"https://ga.co/2PPoZWd\" class=\"linkified\">https://ga.co/2PPoZWd</a></p> <p>****<br/>Abstract:<br/>There has been a lot of attention in the media surrounding the rise of automation. As advanced technologies such as robotic process automation, machine learning, and artificial intelligence have matured, companies have found practical applications to these new technologies.</p> <p>As part of this evolution, Intelligent Automation has become a topic of interest for business leaders across industries looking to combine cognitive capabilities with robotic process technologies to create a \"living\" system that can go beyond mundane and repeatable tasks. This is extremely advantageous to any organization that can implement these systems seamlessly but there is still a delta between the ideation of AI integration. and the ability to put these plans into effect. This delta can instill fear and anxiety around using AI as well as the added question of the ethical implications of AI such as Facial Recognition and targeted advertising.</p> <p>Join General Assembly and the Data Science Breakfast Meetup as we present a panel of experts at the forefront of AI incorporation for an engaging conversation that will touch on.</p> <p>*****<br/>Agenda:<br/>07:30 - arrival and networking<br/>07:50 - panel kick off<br/>08:30 - panel Q&amp;A<br/>09:00 - more networking (and anyone who needs to head off can leave)<br/>09:30 - close</p> <p>*****<br/>Speaker BIO\\'s:</p> <p>Anthony Tockar (Moderator):<br/>Anthony Tockar is director and cofounder at Verge Labs, a new type of AI company focused on the applied side of machine learning. A jack-of-all-trades, he has worked on problems across insurance, technology, telecommunications, loyalty, sports betting and even neuroscience. He qualified as an actuary, then moved into data science, completing an MS in Analytics at the prestigious Northwestern University.</p> <p>After hitting the headlines with his posts on data privacy at Neustar, he returned to Sydney to practice as a data scientist and cofounded the Minerva Collective, a not-for-profit focused on using data for social good, as well as multiple meetup groups. His key missions are to extend the reach and impact of data science to help people, and to assist Australian businesses to become more data driven.</p> <p>Sam Zheng (Panelist):<br/>Sam is Co-founder/CEO of Curious Thing - a voice-based AI interviewer for talent acquisition startup. Sam is a tech entrepreneur, self-taught engineer, and qualified actuary. Before Curious Thing, Sam was Co-founder/CTO of Hyper Anna, an AI for business analytics startup.</p> <p>Dima Galat (Panelist):<br/>Dima learned to program in Assembly on an i486, back when disk sizes were measured in megabytes. He always saw programming as a tool for facilitating communication between disparate data sources and end users.</p> <p>After his first encounter with data mining a decade ago, he became obsessed with applied machine learning, which supercharges this communication process. He has a background in computer vision productisation, data engineering, and a variety of analytics projects for clients ranging from financial institutions to United Nations.</p> <p>Usman Shahbaz (panelist):<br/>Usman is an experienced leader with more than 14 years of rich experience in applying product, network, risk-assurance and consumer analytics to drive actionable business outcomes. His core specialties include Advanced Analytics, Machine &amp; Deep Learning, Statistical Modelling and Optimisation. Usman is currently enrolled for a PhD in Machine Learning. He also holds an MBA and a Bachelor’s degree in Electrical Engineering.</p> <p>Passiona Cottee (panelist):<br/>Data Scientist, Commonwealth Bank, Co-lecturer at UTS</p> ',\n",
    "        'event_or_group_photo': 'https://secure.meetupstatic.com/photos/event/c/6/6/5/highres_481070789.jpeg',\n",
    "        'event_format': 'panel',\n",
    "        'event_category': 'automation'       \n",
    "    }\n",
    "]"
   ]
  },
  {
   "cell_type": "markdown",
   "metadata": {},
   "source": [
    "## Pull Data from Eventbrite\n",
    "Involves setting up an app and getting the app's api public key.<br>\n",
    "*References:*\n",
    "- [EventBrite API Docs](https://www.eventbrite.com/platform/api)"
   ]
  },
  {
   "cell_type": "code",
   "execution_count": 10,
   "metadata": {},
   "outputs": [
    {
     "data": {
      "text/plain": [
       "200"
      ]
     },
     "execution_count": 10,
     "metadata": {},
     "output_type": "execute_result"
    }
   ],
   "source": [
    "url = \"https://www.eventbriteapi.com/v3/events/search/\"\n",
    "\n",
    "querystring = {\"token\":eventbrite_api_key_public}\n",
    "\n",
    "payload = \"\"\n",
    "\n",
    "headers = {\n",
    "   'cache-control': \"no-cache\",\n",
    "   }\n",
    "\n",
    "response = requests.request(\"GET\", url, data=payload, headers=headers, params=querystring)\n",
    "\n",
    "response.status_code"
   ]
  },
  {
   "cell_type": "code",
   "execution_count": 11,
   "metadata": {},
   "outputs": [],
   "source": [
    "data = response.json()"
   ]
  },
  {
   "cell_type": "code",
   "execution_count": 12,
   "metadata": {},
   "outputs": [
    {
     "name": "stdout",
     "output_type": "stream",
     "text": [
      "50\n"
     ]
    }
   ],
   "source": [
    "print(len(data['events']))\n",
    "# Pagination will likely be needed"
   ]
  },
  {
   "cell_type": "code",
   "execution_count": 13,
   "metadata": {},
   "outputs": [
    {
     "name": "stdout",
     "output_type": "stream",
     "text": [
      "{'name': {'text': 'Big Tigger Hosts Concert Weekend Kickoff at Suite Lounge - RSVP NOW', 'html': 'Big Tigger Hosts Concert Weekend Kickoff at Suite Lounge - RSVP NOW'}, 'description': {'text': '\\r\\n\\r\\n\\r\\n\\r\\n\\r\\n\\r\\n\\r\\n\\r\\n\\r\\n\\r\\n\\r\\n\\r\\n\\r\\n\\xa0\\r\\n\\r\\n\\r\\n\\r\\n\\r\\n\\r\\n\\r\\n\\r\\n\\r\\nSUITE LIFE FRIDAYS\\r\\nHOSTED BY\\r\\nBIG TIGGER\\r\\nFREE TIL 12AM W/ RSVP\\r\\n\\r\\n\\r\\n\\r\\n\\r\\n\\r\\n\\r\\n\\r\\n\\r\\n\\r\\n\\r\\n\\r\\n\\r\\n\\r\\n\\r\\n\\r\\n\\r\\n\\r\\n\\r\\n\\r\\n\\r\\n\\r\\n\\r\\n\\r\\n\\r\\n\\r\\n\\r\\n\\r\\n\\r\\n\\r\\n\\r\\n\\r\\n\\r\\n\\r\\n\\r\\n\\r\\n\\r\\n\\r\\n\\r\\n\\r\\n\\r\\n\\r\\n\\r\\n\\r\\n\\r\\n\\r\\n\\r\\n\\r\\n\\xa0\\r\\n\\r\\n\\r\\n\\r\\n\\r\\n\\r\\n\\r\\n\\r\\n©2019 Furious | Peachtree Road, Atlanta Ga\\r\\n\\r\\n\\r\\n\\r\\n\\r\\n\\r\\n\\r\\n\\r\\n\\r\\n\\r\\n\\r\\n\\r\\n\\r\\n\\r\\n', 'html': '<TABLE ID=\"container\" CLASS=\"container logoless\" STYLE=\"color: #000000; font-family: Times; table-layout: fixed; border-collapse: collapse; border-spacing: 0px; width: 640px;\">\\r\\n<TBODY>\\r\\n<TR>\\r\\n<TD ID=\"\" STYLE=\"padding-top: 20px;\">\\r\\n<TABLE ID=\"outer_wrapper\" STYLE=\"table-layout: fixed; border-collapse: collapse; border-spacing: 0px; border-radius: 4px; background-color: #000000; width: 590px;\">\\r\\n<TBODY>\\r\\n<TR>\\r\\n<TD ID=\"\" STYLE=\"padding: 0px;\">\\r\\n<DIV CLASS=\"borderless\" STYLE=\"border-radius: 4px;\">\\r\\n<DIV ID=\"header_inner\" STYLE=\"border-style: none; width: 590px;\"><IMG STYLE=\"border-style: none; display: block; border-radius: 3px 3px 0px 0px; width: 590px;\" ALT=\"FuriousLogo copy\" SRC=\"https://cascade.madmimi.com/promotion_images/1197/8294/original/FuriousLogo_copy.png?1473957906\" WIDTH=\"590\"></DIV>\\r\\n<TABLE ID=\"\" CLASS=\"full spacer spacer-top\" STYLE=\"border-style: none; clear: both; table-layout: fixed; border-collapse: collapse; border-spacing: 0px; width: 590px; min-width: 100%;\">\\r\\n<TBODY>\\r\\n<TR>\\r\\n<TD ID=\"\" STYLE=\"margin: 0px auto; height: 30px; line-height: 30px; padding: 0px 30px;\">\\xa0</TD>\\r\\n</TR>\\r\\n</TBODY>\\r\\n</TABLE>\\r\\n<TABLE ID=\"\" CLASS=\"full text table-1 middle\" STYLE=\"border-style: none; width: 590px; clear: both; table-layout: fixed; border-collapse: collapse; border-spacing: 0px; min-width: 100%;\">\\r\\n<TBODY>\\r\\n<TR>\\r\\n<TD ID=\"\" STYLE=\"padding: 0px 30px 20px;\">\\r\\n<DIV CLASS=\"module text\" DIR=\"ltr\">\\r\\n<P STYLE=\"font-family: sans-serif; font-size: 12px; line-height: 1.5em; vertical-align: baseline; color: #3a352a; text-align: center; unicode-bidi: embed; margin: 0px 0px 1.3em; padding: 0px;\"><SPAN STYLE=\"font-variant-numeric: normal; font-variant-east-asian: normal; font-weight: bold; font-stretch: normal; font-size: 40px; line-height: normal; font-family: Arial; color: gold;\">SUITE LIFE FRIDAYS</SPAN></P>\\r\\n<P STYLE=\"font-family: sans-serif; font-size: 12px; line-height: 1.5em; vertical-align: baseline; color: #3a352a; text-align: center; unicode-bidi: embed; margin: 0px 0px 1.3em; padding: 0px;\"><SPAN STYLE=\"font-variant-numeric: normal; font-variant-east-asian: normal; font-weight: bold; font-stretch: normal; font-size: 40px; line-height: normal; font-family: Arial; color: white;\">HOSTED BY</SPAN></P>\\r\\n<P STYLE=\"font-family: sans-serif; font-size: 12px; line-height: 1.5em; vertical-align: baseline; color: #3a352a; text-align: center; unicode-bidi: embed; margin: 0px 0px 1.3em; padding: 0px;\"><SPAN STYLE=\"font-variant-numeric: normal; font-variant-east-asian: normal; font-weight: bold; font-stretch: normal; font-size: 70px; line-height: normal; font-family: Arial; color: gold;\">BIG TIGGER</SPAN></P>\\r\\n<P STYLE=\"font-family: sans-serif; font-size: 12px; line-height: 1.5em; vertical-align: baseline; color: #3a352a; text-align: center; unicode-bidi: embed; margin: 0px 0px 1.3em; padding: 0px;\"><SPAN STYLE=\"font-variant-numeric: normal; font-variant-east-asian: normal; font-weight: bold; font-stretch: normal; font-size: 40px; line-height: normal; font-family: Arial; color: white;\">FREE TIL 12AM W/ RSVP</SPAN></P>\\r\\n</DIV>\\r\\n</TD>\\r\\n</TR>\\r\\n</TBODY>\\r\\n</TABLE>\\r\\n<TABLE ID=\"\" CLASS=\"full image table-2 middle\" STYLE=\"border-style: none; width: 590px; clear: both; table-layout: fixed; border-collapse: collapse; border-spacing: 0px; min-width: 100%;\">\\r\\n<TBODY>\\r\\n<TR>\\r\\n<TD ID=\"\" STYLE=\"padding: 0px 30px;\">\\r\\n<DIV CLASS=\"module large-image-container image\" DIR=\"ltr\"><BR></DIV>\\r\\n</TD>\\r\\n</TR>\\r\\n</TBODY>\\r\\n</TABLE>\\r\\n<TABLE ID=\"\" CLASS=\"full divider table-3 middle\" STYLE=\"border-style: none; width: 590px; clear: both; table-layout: fixed; border-collapse: collapse; border-spacing: 0px; min-width: 100%;\">\\r\\n<TBODY>\\r\\n<TR>\\r\\n<TD ID=\"\" STYLE=\"padding: 0px 30px 20px;\">\\r\\n<DIV CLASS=\"module divider\" DIR=\"ltr\">\\r\\n<DIV CLASS=\"divider-container module-3\"><IMG STYLE=\"width: 530px; height: auto !important;\" ALT=\"***\" SRC=\"https://d1lggihq2bt4jo.cloudfront.net/assets/responsive_divider-003cda7043b1bbd93c29436541bdc9f7503eb3bbb2fb9b9323bc9b29c83a9fe6.png\" WIDTH=\"530\"></DIV>\\r\\n</DIV>\\r\\n</TD>\\r\\n</TR>\\r\\n</TBODY>\\r\\n</TABLE>\\r\\n<TABLE ID=\"\" CLASS=\"full image table-4 last\" STYLE=\"border-style: none; width: 590px; clear: both; table-layout: fixed; border-collapse: collapse; border-spacing: 0px; min-width: 100%;\">\\r\\n<TBODY>\\r\\n<TR>\\r\\n<TD ID=\"\" STYLE=\"padding: 0px 30px;\">\\r\\n<DIV CLASS=\"module large-image-container image\" DIR=\"ltr\">\\r\\n<TABLE CLASS=\"module-4\" STYLE=\"width: 530px; float: none; margin-left: auto; margin-right: auto; padding: 0px; table-layout: fixed; border-collapse: collapse; border-spacing: 0px;\">\\r\\n<TBODY>\\r\\n<TR>\\r\\n<TD CLASS=\"single\" STYLE=\"padding: 0px 0px 18px; width: 530px;\">\\r\\n<DIV CLASS=\"image-container\" STYLE=\"text-align: center;\"><IMG STYLE=\"border-style: none; width: 530px; padding: 0px; float: none; height: auto;\" ALT=\"img341673761\" SRC=\"https://cascade.madmimi.com/promotion_images/8096/2086/original/img341673761.jpg?1550610925\" WIDTH=\"530\"></DIV>\\r\\n</TD>\\r\\n</TR>\\r\\n</TBODY>\\r\\n</TABLE>\\r\\n</DIV>\\r\\n</TD>\\r\\n</TR>\\r\\n</TBODY>\\r\\n</TABLE>\\r\\n<TABLE ID=\"\" CLASS=\"full spacer spacer-bottom\" STYLE=\"border-style: none; width: 590px; clear: both; table-layout: fixed; border-collapse: collapse; border-spacing: 0px; min-width: 100%;\">\\r\\n<TBODY>\\r\\n<TR>\\r\\n<TD ID=\"\" STYLE=\"margin: 0px auto; padding: 0px 10px; height: 10px; line-height: 10px;\">\\xa0</TD>\\r\\n</TR>\\r\\n</TBODY>\\r\\n</TABLE>\\r\\n<TABLE ID=\"footer_wrapper\" CLASS=\"full\" STYLE=\"border-style: none; width: 590px; clear: both; table-layout: fixed; border-collapse: collapse; border-spacing: 0px; border-radius: 0px 0px 3px 3px; min-width: 100%;\" BORDER=\"0\">\\r\\n<TBODY>\\r\\n<TR>\\r\\n<TD CLASS=\"footer\" STYLE=\"color: #999999; font-family: sans-serif; font-size: 11px; padding: 15px 30px; width: 530px; border-radius: 0px 0px 3px 3px; text-align: center; background-color: #ffd700;\">\\r\\n<P STYLE=\"font-family: sans-serif; font-size: 11px; unicode-bidi: embed; margin: 10px 0px;\">©2019 Furious | Peachtree Road, Atlanta Ga</P>\\r\\n<P><BR></P>\\r\\n</TD>\\r\\n</TR>\\r\\n</TBODY>\\r\\n</TABLE>\\r\\n</DIV>\\r\\n</TD>\\r\\n</TR>\\r\\n</TBODY>\\r\\n</TABLE>\\r\\n</TD>\\r\\n</TR>\\r\\n</TBODY>\\r\\n</TABLE>'}, 'id': '53667810867', 'url': 'https://www.eventbrite.com/e/big-tigger-hosts-concert-weekend-kickoff-at-suite-lounge-rsvp-now-tickets-53667810867?aff=ebapi', 'vanity_url': 'https://richthekidatopera.eventbrite.com', 'start': {'timezone': 'America/New_York', 'local': '2019-06-14T22:00:00', 'utc': '2019-06-15T02:00:00Z'}, 'end': {'timezone': 'America/New_York', 'local': '2019-06-15T03:00:00', 'utc': '2019-06-15T07:00:00Z'}, 'organization_id': '25399112885', 'created': '2018-12-13T01:07:44Z', 'changed': '2019-06-13T00:59:09Z', 'published': '2018-12-13T01:07:47Z', 'capacity': None, 'capacity_is_custom': None, 'status': 'live', 'currency': 'USD', 'listed': True, 'shareable': True, 'online_event': False, 'tx_time_limit': 480, 'hide_start_date': False, 'hide_end_date': False, 'locale': 'en_US', 'is_locked': False, 'privacy_setting': 'unlocked', 'is_series': False, 'is_series_parent': False, 'inventory_type': 'limited', 'is_reserved_seating': False, 'show_pick_a_seat': False, 'show_seatmap_thumbnail': False, 'show_colors_in_seatmap_thumbnail': False, 'source': 'create_2.0', 'is_free': False, 'version': '3.0.0', 'summary': '\\r\\n\\r\\n\\r\\n\\r\\n\\r\\n\\r\\n\\r\\n\\r\\n\\r\\n\\r\\n\\r\\n\\r\\n\\r\\n\\xa0\\r\\n\\r\\n\\r\\n\\r\\n\\r\\n\\r\\n\\r\\n\\r\\n\\r\\nSUITE LIFE FRIDAYS\\r\\nHOSTED BY\\r\\nBIG TIGGER\\r\\nFREE TIL 12AM W/ RSVP\\r\\n\\r\\n\\r\\n\\r\\n\\r\\n\\r\\n\\r\\n\\r\\n\\r\\n\\r\\n\\r\\n\\r\\n\\r\\n\\r\\n\\r\\n\\r', 'logo_id': '62417653', 'organizer_id': '1964406257', 'venue_id': '33064986', 'category_id': '103', 'subcategory_id': '3008', 'format_id': '11', 'resource_uri': 'https://www.eventbriteapi.com/v3/events/53667810867/', 'is_externally_ticketed': False, 'logo': {'crop_mask': {'top_left': {'x': 62, 'y': 0}, 'width': 872, 'height': 436}, 'original': {'url': 'https://img.evbuc.com/https%3A%2F%2Fcdn.evbuc.com%2Fimages%2F62417653%2F25399112885%2F1%2Foriginal.20190516-184347?auto=compress&s=c0d04175ab0b388420360b4e041c04f5', 'width': 960, 'height': 960}, 'id': '62417653', 'url': 'https://img.evbuc.com/https%3A%2F%2Fcdn.evbuc.com%2Fimages%2F62417653%2F25399112885%2F1%2Foriginal.20190516-184347?h=200&w=450&auto=compress&rect=62%2C0%2C872%2C436&s=7197f8ac82d70285ee7455826c5ba566', 'aspect_ratio': '2', 'edge_color': '#1e164c', 'edge_color_set': True}}\n"
     ]
    }
   ],
   "source": [
    "print(data['events'][0])\n",
    "# might make sense to pretty print this, and sort out schema"
   ]
  }
 ],
 "metadata": {
  "kernelspec": {
   "display_name": "Python [conda env:eventscraper]",
   "language": "python",
   "name": "conda-env-eventscraper-py"
  },
  "language_info": {
   "codemirror_mode": {
    "name": "ipython",
    "version": 3
   },
   "file_extension": ".py",
   "mimetype": "text/x-python",
   "name": "python",
   "nbconvert_exporter": "python",
   "pygments_lexer": "ipython3",
   "version": "3.7.3"
  }
 },
 "nbformat": 4,
 "nbformat_minor": 2
}
